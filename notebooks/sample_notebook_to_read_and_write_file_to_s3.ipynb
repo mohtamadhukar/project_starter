{
 "cells": [
  {
   "cell_type": "code",
   "execution_count": 6,
   "id": "ff37a0c8",
   "metadata": {},
   "outputs": [],
   "source": [
    "import os\n",
    "os.chdir('../')"
   ]
  },
  {
   "cell_type": "code",
   "execution_count": 7,
   "id": "3d90f0cf",
   "metadata": {},
   "outputs": [],
   "source": [
    "from gtmarkdownlib.data.data_stores import DataStore"
   ]
  },
  {
   "cell_type": "code",
   "execution_count": 8,
   "id": "41932849",
   "metadata": {},
   "outputs": [],
   "source": [
    "## To read a file from S3\n",
    "path = 'Data/Dev/Input/BCG_Store_Data_20211115.csv'\n",
    "df = DataStore(file_name=path).data"
   ]
  },
  {
   "cell_type": "code",
   "execution_count": 12,
   "id": "199f2a82",
   "metadata": {},
   "outputs": [],
   "source": [
    "## Some data operation\n",
    "new_df = dummy_data[dummy_data['STORE_TYPE']=='F'].reset_index(drop=True)"
   ]
  },
  {
   "cell_type": "code",
   "execution_count": 14,
   "id": "71639b73",
   "metadata": {},
   "outputs": [],
   "source": [
    "## To write a file to s3\n",
    "upload_path = 'Data/nancy_working_folder/dummy_file.csv'\n",
    "upload_object = DataStore(file_name=upload_path)\n",
    "upload_object.data = new_df"
   ]
  },
  {
   "cell_type": "code",
   "execution_count": 25,
   "id": "63ddf054",
   "metadata": {},
   "outputs": [
    {
     "data": {
      "text/plain": [
       "['Data/Dev/Input/BCG_Price_Point_20211115.csv']"
      ]
     },
     "execution_count": 25,
     "metadata": {},
     "output_type": "execute_result"
    }
   ],
   "source": [
    "# List all files in a folder in S3\n",
    "from gtmarkdownlib.data.handlers.s3 import S3StorageHandler\n",
    "prefix = 'Data/Dev/Input/BCG_Price_Point'\n",
    "S3StorageHandler.list_files(S3StorageHandler,prefix=prefix, suffix=\".csv\")"
   ]
  },
  {
   "cell_type": "code",
   "execution_count": null,
   "id": "3a52cf45",
   "metadata": {},
   "outputs": [],
   "source": []
  }
 ],
 "metadata": {
  "kernelspec": {
   "display_name": "gtmarkdown",
   "language": "python",
   "name": "gtmarkdown"
  },
  "language_info": {
   "codemirror_mode": {
    "name": "ipython",
    "version": 3
   },
   "file_extension": ".py",
   "mimetype": "text/x-python",
   "name": "python",
   "nbconvert_exporter": "python",
   "pygments_lexer": "ipython3",
   "version": "3.7.11"
  }
 },
 "nbformat": 4,
 "nbformat_minor": 5
}
